{
 "cells": [
  {
   "cell_type": "code",
   "execution_count": 1,
   "source": [
    "import mitsuba\r\n",
    "mitsuba.set_variant('scalar_rgb')\r\n",
    "\r\n",
    "from mitsuba.core import Thread\r\n",
    "from mitsuba.core.xml import load_file\r\n",
    "from mitsuba.core import Bitmap, Struct\r\n",
    "\r\n",
    "# Load the Cornell Box\r\n",
    "Thread.thread().file_resolver().append('C:/Users/mslater/Code/mitsuba2/resources/data/scenes/cbox/')\r\n",
    "scene = load_file('C:/Users/mslater/Code/mitsuba2/resources/data/scenes/cbox/cbox.xml')\r\n",
    "\r\n",
    "sensor = scene.sensors()[0]\r\n",
    "film = sensor.film()\r\n",
    "\r\n",
    "scene.integrator().render(scene, sensor)\r\n",
    "\r\n",
    "img = film.bitmap(raw=True).convert(Bitmap.PixelFormat.RGB, Struct.Type.UInt8, srgb_gamma=True)\r\n",
    "img.write('temp/output.png')"
   ],
   "outputs": [
    {
     "output_type": "display_data",
     "data": {
      "text/html": [
       "<span style=\"font-family: monospace; color: #000\">2021-09-09 12:54:45 INFO  main  [xml.cpp:1221] Loading XML file &quot;C:\\Users\\mslater\\Code\\mitsuba2\\resources\\data\\scenes\\cbox\\cbox.xml&quot; ..</span>"
      ]
     },
     "metadata": {}
    },
    {
     "output_type": "display_data",
     "data": {
      "text/html": [
       "<span style=\"font-family: monospace; color: #000\">2021-09-09 12:54:45 INFO  main  [xml.cpp:1222] Using variant &quot;scalar_rgb&quot;</span>"
      ]
     },
     "metadata": {}
    },
    {
     "output_type": "display_data",
     "data": {
      "text/html": [
       "<span style=\"font-family: monospace; color: #000\">2021-09-09 12:54:45 INFO  main  [xml.cpp:355] &quot;C:\\Users\\mslater\\Code\\mitsuba2\\resources\\data\\scenes\\cbox\\cbox.xml&quot;: in-memory version upgrade (v2.0.0 -&gt; v2.2.1) ..</span>"
      ]
     },
     "metadata": {}
    },
    {
     "output_type": "display_data",
     "data": {
      "text/html": [
       "<span style=\"font-family: monospace; color: #000\">2021-09-09 12:54:45 INFO  main  [PluginManager] Loading plugin &quot;plugins\\srgb.dll&quot; ..</span>"
      ]
     },
     "metadata": {}
    },
    {
     "output_type": "display_data",
     "data": {
      "text/html": [
       "<span style=\"font-family: monospace; color: #000\">2021-09-09 12:54:45 INFO  main  [PluginManager] Loading plugin &quot;plugins\\srgb_d65.dll&quot; ..</span>"
      ]
     },
     "metadata": {}
    },
    {
     "output_type": "display_data",
     "data": {
      "text/html": [
       "<span style=\"font-family: monospace; color: #000\">2021-09-09 12:54:45 INFO  main  [PluginManager] Loading plugin &quot;plugins\\path.dll&quot; ..</span>"
      ]
     },
     "metadata": {}
    },
    {
     "output_type": "display_data",
     "data": {
      "text/html": [
       "<span style=\"font-family: monospace; color: #000\">2021-09-09 12:54:45 INFO  tbb00 [PluginManager] Loading plugin &quot;plugins\\diffuse.dll&quot; ..</span>"
      ]
     },
     "metadata": {}
    },
    {
     "output_type": "display_data",
     "data": {
      "text/html": [
       "<span style=\"font-family: monospace; color: #000\">2021-09-09 12:54:45 INFO  tbb02 [PluginManager] Loading plugin &quot;plugins\\independent.dll&quot; ..</span>"
      ]
     },
     "metadata": {}
    },
    {
     "output_type": "display_data",
     "data": {
      "text/html": [
       "<span style=\"font-family: monospace; color: #000\">2021-09-09 12:54:45 INFO  main  [PluginManager] Loading plugin &quot;plugins\\gaussian.dll&quot; ..</span>"
      ]
     },
     "metadata": {}
    },
    {
     "output_type": "display_data",
     "data": {
      "text/html": [
       "<span style=\"font-family: monospace; color: #000\">2021-09-09 12:54:45 INFO  tbb00 [PluginManager] Loading plugin &quot;plugins\\area.dll&quot; ..</span>"
      ]
     },
     "metadata": {}
    },
    {
     "output_type": "display_data",
     "data": {
      "text/html": [
       "<span style=\"font-family: monospace; color: #000\">2021-09-09 12:54:45 INFO  tbb03 [PluginManager] Loading plugin &quot;plugins\\obj.dll&quot; ..</span>"
      ]
     },
     "metadata": {}
    },
    {
     "output_type": "display_data",
     "data": {
      "text/html": [
       "<span style=\"font-family: monospace; color: #000\">2021-09-09 12:54:45 INFO  main  [PluginManager] Loading plugin &quot;plugins\\hdrfilm.dll&quot; ..</span>"
      ]
     },
     "metadata": {}
    },
    {
     "output_type": "display_data",
     "data": {
      "text/html": [
       "<span style=\"font-family: monospace; color: #000\">2021-09-09 12:54:45 INFO  tbb00 [PluginManager] Loading plugin &quot;plugins\\uniform.dll&quot; ..</span>"
      ]
     },
     "metadata": {}
    },
    {
     "output_type": "display_data",
     "data": {
      "text/html": [
       "<span style=\"font-family: monospace; color: #000\">2021-09-09 12:54:45 INFO  tbb02 [PluginManager] Loading plugin &quot;plugins\\perspective.dll&quot; ..</span>"
      ]
     },
     "metadata": {}
    },
    {
     "output_type": "display_data",
     "data": {
      "text/html": [
       "<span style=\"font-family: monospace; color: #000\">2021-09-09 12:54:45 INFO  main  [ShapeKDTree] Building a SAH kd-tree (38 primitives) ..</span>"
      ]
     },
     "metadata": {}
    },
    {
     "output_type": "display_data",
     "data": {
      "text/html": [
       "<span style=\"font-family: monospace; color: #000\">2021-09-09 12:54:45 INFO  main  [ShapeKDTree] Finished. (1.53 KiB of storage, took 2ms)</span>"
      ]
     },
     "metadata": {}
    },
    {
     "output_type": "display_data",
     "data": {
      "text/html": [
       "<span style=\"font-family: monospace; color: #000\">2021-09-09 12:54:45 INFO  main  [SamplingIntegrator] Starting render job (256x256, 128 samples, 8 threads)</span>"
      ]
     },
     "metadata": {}
    },
    {
     "output_type": "display_data",
     "data": {
      "application/vnd.jupyter.widget-view+json": {
       "version_major": 2,
       "version_minor": 0,
       "model_id": "58cadceac3d94f3189d02bec058b4f36"
      },
      "text/plain": [
       "VBox(children=(HTML(value=''), FloatProgress(value=0.0, bar_style='info', layout=Layout(width='100%'), max=1.0…"
      ]
     },
     "metadata": {}
    },
    {
     "output_type": "display_data",
     "data": {
      "text/html": [
       "<span style=\"font-family: monospace; color: #000\">2021-09-09 12:55:02 INFO  main  [SamplingIntegrator] Rendering finished. (took 17.411s)</span>"
      ]
     },
     "metadata": {}
    }
   ],
   "metadata": {}
  }
 ],
 "metadata": {
  "orig_nbformat": 4,
  "language_info": {
   "name": "python",
   "version": "3.9.5",
   "mimetype": "text/x-python",
   "codemirror_mode": {
    "name": "ipython",
    "version": 3
   },
   "pygments_lexer": "ipython3",
   "nbconvert_exporter": "python",
   "file_extension": ".py"
  },
  "kernelspec": {
   "name": "python3",
   "display_name": "Python 3.9.5 64-bit ('base': conda)"
  },
  "interpreter": {
   "hash": "4881f5eacd7088bcf5a836f9e344288743d588393de6dc96f82d4b26fa31d287"
  }
 },
 "nbformat": 4,
 "nbformat_minor": 2
}