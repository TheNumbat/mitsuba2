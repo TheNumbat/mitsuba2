{
 "cells": [
  {
   "cell_type": "code",
   "execution_count": 1,
   "metadata": {},
   "outputs": [
    {
     "data": {
      "text/html": [
       "<span style=\"font-family: monospace; color: #000\">2021-11-03 12:08:47 INFO  main  [optix_api.cpp:56] Dynamic loading of the Optix library ..</span>"
      ]
     },
     "metadata": {},
     "output_type": "display_data"
    },
    {
     "data": {
      "text/html": [
       "<span style=\"font-family: monospace; color: #000\">2021-11-03 12:08:47 INFO  main  [xml.cpp:1221] Loading XML file &quot;C:\\Users\\Max\\Code\\mitsuba2\\resources\\data\\scenes\\spot\\spot_int.xml&quot; ..</span>"
      ]
     },
     "metadata": {},
     "output_type": "display_data"
    },
    {
     "data": {
      "text/html": [
       "<span style=\"font-family: monospace; color: #000\">2021-11-03 12:08:47 INFO  main  [xml.cpp:1222] Using variant &quot;gpu_autodiff_rgb&quot;</span>"
      ]
     },
     "metadata": {},
     "output_type": "display_data"
    },
    {
     "data": {
      "text/html": [
       "<span style=\"font-family: monospace; color: #000\">2021-11-03 12:08:47 INFO  main  [xml.cpp:355] &quot;C:\\Users\\Max\\Code\\mitsuba2\\resources\\data\\scenes\\spot\\spot_int.xml&quot;: in-memory version upgrade (v2.0.0 -&gt; v2.2.1) ..</span>"
      ]
     },
     "metadata": {},
     "output_type": "display_data"
    },
    {
     "data": {
      "text/html": [
       "<span style=\"font-family: monospace; color: #000\">2021-11-03 12:08:47 INFO  main  [PluginManager] Loading plugin &quot;plugins\\conductor.dll&quot; ..</span>"
      ]
     },
     "metadata": {},
     "output_type": "display_data"
    },
    {
     "data": {
      "text/html": [
       "<span style=\"font-family: monospace; color: #000\">2021-11-03 12:08:47 INFO  main  [PluginManager] Loading plugin &quot;plugins\\uniform.dll&quot; ..</span>"
      ]
     },
     "metadata": {},
     "output_type": "display_data"
    },
    {
     "data": {
      "text/html": [
       "<span style=\"font-family: monospace; color: #000\">2021-11-03 12:08:47 INFO  main  [PluginManager] Loading plugin &quot;plugins\\obj.dll&quot; ..</span>"
      ]
     },
     "metadata": {},
     "output_type": "display_data"
    },
    {
     "data": {
      "text/html": [
       "<span style=\"font-family: monospace; color: #000\">2021-11-03 12:08:47 INFO  main  [PluginManager] Loading plugin &quot;plugins\\tex_shape.dll&quot; ..</span>"
      ]
     },
     "metadata": {},
     "output_type": "display_data"
    },
    {
     "data": {
      "text/html": [
       "<span style=\"font-family: monospace; color: #f55\">2021-11-03 12:08:47 WARN  main  [TexShapeSampler] TexShapeSampler using shape: spot</span>"
      ]
     },
     "metadata": {},
     "output_type": "display_data"
    },
    {
     "data": {
      "text/html": [
       "<span style=\"font-family: monospace; color: #000\">2021-11-03 12:08:47 INFO  main  [PluginManager] Loading plugin &quot;plugins\\tex_path.dll&quot; ..</span>"
      ]
     },
     "metadata": {},
     "output_type": "display_data"
    },
    {
     "data": {
      "text/html": [
       "<span style=\"font-family: monospace; color: #f55\">2021-11-03 12:08:47 WARN  main  [TexPathIntegrator] TexCam using sampler: </span>"
      ]
     },
     "metadata": {},
     "output_type": "display_data"
    },
    {
     "data": {
      "text/html": [
       "<span style=\"font-family: monospace; color: #000\">2021-11-03 12:08:47 INFO  main  [PluginManager] Loading plugin &quot;plugins\\envmap.dll&quot; ..</span>"
      ]
     },
     "metadata": {},
     "output_type": "display_data"
    },
    {
     "data": {
      "text/html": [
       "<span style=\"font-family: monospace; color: #000\">2021-11-03 12:08:47 INFO  main  [PluginManager] Loading plugin &quot;plugins\\hdrfilm.dll&quot; ..</span>"
      ]
     },
     "metadata": {},
     "output_type": "display_data"
    },
    {
     "data": {
      "text/html": [
       "<span style=\"font-family: monospace; color: #000\">2021-11-03 12:08:47 INFO  main  [PluginManager] Loading plugin &quot;plugins\\gaussian.dll&quot; ..</span>"
      ]
     },
     "metadata": {},
     "output_type": "display_data"
    },
    {
     "data": {
      "text/html": [
       "<span style=\"font-family: monospace; color: #000\">2021-11-03 12:08:47 INFO  main  [PluginManager] Loading plugin &quot;plugins\\tex_samp.dll&quot; ..</span>"
      ]
     },
     "metadata": {},
     "output_type": "display_data"
    },
    {
     "data": {
      "text/html": [
       "<span style=\"font-family: monospace; color: #000\">2021-11-03 12:08:47 INFO  main  [PluginManager] Loading plugin &quot;plugins\\independent.dll&quot; ..</span>"
      ]
     },
     "metadata": {},
     "output_type": "display_data"
    },
    {
     "data": {
      "text/html": [
       "<span style=\"font-family: monospace; color: #000\">2021-11-03 12:08:47 INFO  main  [Scene] Building scene in OptiX ..</span>"
      ]
     },
     "metadata": {},
     "output_type": "display_data"
    },
    {
     "name": "stdout",
     "output_type": "stream",
     "text": [
      "ParameterMap[\n",
      "    my_envmap.scale,\n",
      "  * my_envmap.data,\n",
      "    my_envmap.resolution,\n",
      "  * bsdf.specular_reflectance.value,\n",
      "  * bsdf.eta.value,\n",
      "  * bsdf.k.value,\n",
      "    spot.to_world,\n",
      "    spot.vertex_count,\n",
      "    spot.face_count,\n",
      "  * spot.faces_buf,\n",
      "  * spot.vertex_positions_buf,\n",
      "  * spot.vertex_normals_buf,\n",
      "  * spot.vertex_texcoords_buf,\n",
      "    TexSampCamera.near_clip,\n",
      "    TexSampCamera.far_clip,\n",
      "    TexSampCamera.focus_distance,\n",
      "    TexSampCamera.shutter_open,\n",
      "    TexSampCamera.shutter_open_time,\n",
      "]\n"
     ]
    }
   ],
   "source": [
    "import enoki as ek\n",
    "import mitsuba\n",
    "mitsuba.set_variant('gpu_autodiff_rgb')\n",
    "\n",
    "from mitsuba.core import Float, Thread\n",
    "from mitsuba.core.xml import load_file\n",
    "from mitsuba.python.util import traverse\n",
    "from mitsuba.python.autodiff import render, write_bitmap\n",
    "from mitsuba.core import Color3f\n",
    "\n",
    "# Load the Cornell Box\n",
    "Thread.thread().file_resolver().append('C:/Users/Max/Code/mitsuba2/resources/data/scenes/spot/')\n",
    "# scene = load_file('C:/Users/Max/Code/mitsuba2/resources/data/scenes/spot/spot_sens.xml')\n",
    "scene = load_file('C:/Users/Max/Code/mitsuba2/resources/data/scenes/spot/spot_int.xml')\n",
    "\n",
    "# Find differentiable scene parameters\n",
    "params = traverse(scene)\n",
    "\n",
    "print(params)"
   ]
  },
  {
   "cell_type": "code",
   "execution_count": null,
   "metadata": {},
   "outputs": [
    {
     "ename": "Error",
     "evalue": "Session cannot generate requests",
     "output_type": "error",
     "traceback": [
      "Error: Session cannot generate requests",
      "at w.executeCodeCell (c:\\Users\\Max\\.vscode\\extensions\\ms-toolsai.jupyter-2021.9.1101343141\\out\\client\\extension.js:52:301180)",
      "at w.execute (c:\\Users\\Max\\.vscode\\extensions\\ms-toolsai.jupyter-2021.9.1101343141\\out\\client\\extension.js:52:300551)",
      "at w.start (c:\\Users\\Max\\.vscode\\extensions\\ms-toolsai.jupyter-2021.9.1101343141\\out\\client\\extension.js:52:296215)",
      "at processTicksAndRejections (internal/process/task_queues.js:93:5)",
      "at async t.CellExecutionQueue.executeQueuedCells (c:\\Users\\Max\\.vscode\\extensions\\ms-toolsai.jupyter-2021.9.1101343141\\out\\client\\extension.js:52:310950)",
      "at async t.CellExecutionQueue.start (c:\\Users\\Max\\.vscode\\extensions\\ms-toolsai.jupyter-2021.9.1101343141\\out\\client\\extension.js:52:310490)"
     ]
    }
   ],
   "source": [
    "# Make a backup copy\n",
    "param_res = params['my_envmap.resolution']\n",
    "param_ref = Float(params['my_envmap.data'])\n",
    "\n",
    "# Discard all parameters except for one we want to differentiate\n",
    "params.keep(['my_envmap.data'])\n",
    "\n",
    "# Render a reference image (no derivatives used yet)\n",
    "image_ref = render(scene, spp=16)\n",
    "crop_size = scene.sensors()[0].film().crop_size()\n",
    "write_bitmap('temp/out_ref.png', image_ref, crop_size)"
   ]
  },
  {
   "cell_type": "markdown",
   "metadata": {},
   "source": [
    "![temp/out_ref.png](temp/out_ref.png)"
   ]
  },
  {
   "cell_type": "code",
   "execution_count": 3,
   "metadata": {},
   "outputs": [
    {
     "name": "stdout",
     "output_type": "stream",
     "text": [
      "Iteration 000: error=85684.1\n",
      "Iteration 001: error=82818.4\n",
      "Iteration 002: error=80000.7\n",
      "Iteration 003: error=77235.4\n",
      "Iteration 004: error=74526.2\n",
      "Iteration 005: error=71875.1\n",
      "Iteration 006: error=69284.6\n",
      "Iteration 007: error=66756.1\n",
      "Iteration 008: error=64289.6\n",
      "Iteration 009: error=61885.4\n",
      "Iteration 010: error=59544.2\n",
      "Iteration 011: error=57266.6\n",
      "Iteration 012: error=55053.1\n",
      "Iteration 013: error=52903.7\n",
      "Iteration 014: error=50818.6\n",
      "Iteration 015: error=48797.4\n",
      "Iteration 016: error=46840.2\n",
      "Iteration 017: error=44946.7\n",
      "Iteration 018: error=43116.7\n",
      "Iteration 019: error=41349.6\n",
      "Iteration 020: error=39644.4\n",
      "Iteration 021: error=38000.8\n",
      "Iteration 022: error=36418.4\n",
      "Iteration 023: error=34895.6\n",
      "Iteration 024: error=33432\n",
      "Iteration 025: error=32027.1\n",
      "Iteration 026: error=30679.4\n",
      "Iteration 027: error=29387.6\n",
      "Iteration 028: error=28150.9\n",
      "Iteration 029: error=26968\n",
      "Iteration 030: error=25837.3\n",
      "Iteration 031: error=24757.9\n",
      "Iteration 032: error=23728.4\n",
      "Iteration 033: error=22747.3\n",
      "Iteration 034: error=21813.3\n",
      "Iteration 035: error=20924.9\n",
      "Iteration 036: error=20080.4\n",
      "Iteration 037: error=19278.6\n",
      "Iteration 038: error=18517.7\n",
      "Iteration 039: error=17796.2\n",
      "Iteration 040: error=17112.2\n",
      "Iteration 041: error=16464.8\n",
      "Iteration 042: error=15852.1\n",
      "Iteration 043: error=15272.9\n",
      "Iteration 044: error=14725.9\n",
      "Iteration 045: error=14209.6\n",
      "Iteration 046: error=13722.4\n",
      "Iteration 047: error=13262.9\n",
      "Iteration 048: error=12829.9\n",
      "Iteration 049: error=12422.2\n",
      "Iteration 050: error=12038.1\n",
      "Iteration 051: error=11676.4\n",
      "Iteration 052: error=11335.9\n",
      "Iteration 053: error=11015.3\n",
      "Iteration 054: error=10713.1\n",
      "Iteration 055: error=10428.7\n",
      "Iteration 056: error=10160.8\n",
      "Iteration 057: error=9908.36\n",
      "Iteration 058: error=9670.79\n",
      "Iteration 059: error=9446.65\n",
      "Iteration 060: error=9235.39\n",
      "Iteration 061: error=9036.22\n",
      "Iteration 062: error=8848.03\n",
      "Iteration 063: error=8670.17\n",
      "Iteration 064: error=8501.86\n",
      "Iteration 065: error=8342.45\n",
      "Iteration 066: error=8191.49\n",
      "Iteration 067: error=8048.18\n",
      "Iteration 068: error=7912.3\n",
      "Iteration 069: error=7782.69\n",
      "Iteration 070: error=7659.47\n",
      "Iteration 071: error=7541.98\n",
      "Iteration 072: error=7429.99\n",
      "Iteration 073: error=7322.59\n",
      "Iteration 074: error=7219.65\n",
      "Iteration 075: error=7120.8\n",
      "Iteration 076: error=7026.07\n",
      "Iteration 077: error=6934.94\n",
      "Iteration 078: error=6847.27\n",
      "Iteration 079: error=6762.76\n",
      "Iteration 080: error=6681.42\n",
      "Iteration 081: error=6602.7\n",
      "Iteration 082: error=6526.74\n",
      "Iteration 083: error=6453.56\n",
      "Iteration 084: error=6383.02\n",
      "Iteration 085: error=6314.82\n",
      "Iteration 086: error=6249\n",
      "Iteration 087: error=6185.27\n",
      "Iteration 088: error=6123.43\n",
      "Iteration 089: error=6063.6\n",
      "Iteration 090: error=6005.5\n",
      "Iteration 091: error=5948.61\n",
      "Iteration 092: error=5893.27\n",
      "Iteration 093: error=5838.77\n",
      "Iteration 094: error=5785.15\n",
      "Iteration 095: error=5732.16\n",
      "Iteration 096: error=5679.94\n",
      "Iteration 097: error=5628.57\n",
      "Iteration 098: error=5577.62\n",
      "Iteration 099: error=5527.69\n"
     ]
    }
   ],
   "source": [
    "# Change to a uniform white lighting environment\n",
    "params['my_envmap.data'] = ek.full(Float, 1.0, len(param_ref))\n",
    "params.update()\n",
    "\n",
    "from mitsuba.python.autodiff import Adam\n",
    "opt = Adam(params, lr=.02)\n",
    "\n",
    "image = render(scene, spp=8)\n",
    "crop_size = scene.sensors()[0].film().crop_size()\n",
    "write_bitmap('temp/out_start.png', image, crop_size)\n",
    "write_bitmap('temp/envmap_start.png', params['my_envmap.data'],\n",
    "                 (param_res[0], param_res[1]))\n",
    "\n",
    "for it in range(100):\n",
    "    # Perform a differentiable rendering of the scene\n",
    "    image = render(scene, optimizer=opt, unbiased=True, spp=1)\n",
    "\n",
    "    # Objective: MSE between 'image' and 'image_ref'\n",
    "    ob_val = ek.hsum(ek.sqr(image - image_ref)) / len(image)\n",
    "\n",
    "    # Back-propagate errors to input parameters\n",
    "    ek.backward(ob_val)\n",
    "\n",
    "    # Optimizer: take a gradient step\n",
    "    opt.step()\n",
    "\n",
    "    err_ref = ek.hsum(ek.sqr(param_ref - params['my_envmap.data']))\n",
    "    print('Iteration %03i: error=%g' % (it, err_ref[0]))\n",
    "\n",
    "\n",
    "image = render(scene, spp=8)\n",
    "crop_size = scene.sensors()[0].film().crop_size()\n",
    "write_bitmap('temp/out_end.png', image, crop_size)\n",
    "write_bitmap('temp/envmap_end.png', params['my_envmap.data'],\n",
    "                 (param_res[0], param_res[1]))\n"
   ]
  },
  {
   "cell_type": "markdown",
   "metadata": {},
   "source": [
    "![start](temp/out_start.png)\n",
    "![end](temp/out_end.png)\n",
    "![env_start](temp/envmap_start.png)\n",
    "![env_end](temp/envmap_end.png)"
   ]
  },
  {
   "cell_type": "markdown",
   "metadata": {},
   "source": []
  }
 ],
 "metadata": {
  "interpreter": {
   "hash": "4881f5eacd7088bcf5a836f9e344288743d588393de6dc96f82d4b26fa31d287"
  },
  "kernelspec": {
   "display_name": "Python 3.9.6 64-bit ('base': conda)",
   "name": "python3"
  },
  "language_info": {
   "codemirror_mode": {
    "name": "ipython",
    "version": 3
   },
   "file_extension": ".py",
   "mimetype": "text/x-python",
   "name": "python",
   "nbconvert_exporter": "python",
   "pygments_lexer": "ipython3",
   "version": "3.9.6"
  },
  "orig_nbformat": 4
 },
 "nbformat": 4,
 "nbformat_minor": 2
}
