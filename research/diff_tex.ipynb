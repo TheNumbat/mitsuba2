{
 "cells": [
  {
   "cell_type": "code",
   "execution_count": 3,
   "source": [
    "import enoki as ek\r\n",
    "import mitsuba\r\n",
    "mitsuba.set_variant('gpu_autodiff_rgb')\r\n",
    "\r\n",
    "from mitsuba.core import Float, Thread\r\n",
    "from mitsuba.core.xml import load_file\r\n",
    "from mitsuba.python.util import traverse\r\n",
    "from mitsuba.python.autodiff import render, write_bitmap\r\n",
    "from mitsuba.core import Color3f\r\n",
    "\r\n",
    "# Load the Cornell Box\r\n",
    "Thread.thread().file_resolver().append('C:/Users/Max/Code/mitsuba2/resources/data/scenes/bunny/')\r\n",
    "scene = load_file('C:/Users/Max/Code/mitsuba2/resources/data/scenes/bunny/bunny.xml')\r\n",
    "\r\n",
    "# Find differentiable scene parameters\r\n",
    "params = traverse(scene)\r\n",
    "\r\n",
    "print(params)"
   ],
   "outputs": [
    {
     "output_type": "display_data",
     "data": {
      "text/html": [
       "<span style=\"font-family: monospace; color: #000\">2021-09-07 21:25:23 INFO  main  [xml.cpp:1221] Loading XML file &quot;C:\\Users\\Max\\Code\\mitsuba2\\resources\\data\\scenes\\bunny\\bunny.xml&quot; ..</span>"
      ]
     },
     "metadata": {}
    },
    {
     "output_type": "display_data",
     "data": {
      "text/html": [
       "<span style=\"font-family: monospace; color: #000\">2021-09-07 21:25:23 INFO  main  [xml.cpp:1222] Using variant &quot;gpu_autodiff_rgb&quot;</span>"
      ]
     },
     "metadata": {}
    },
    {
     "output_type": "display_data",
     "data": {
      "text/html": [
       "<span style=\"font-family: monospace; color: #000\">2021-09-07 21:25:23 INFO  main  [xml.cpp:355] &quot;C:\\Users\\Max\\Code\\mitsuba2\\resources\\data\\scenes\\bunny\\bunny.xml&quot;: in-memory version upgrade (v2.0.0 -&gt; v2.2.1) ..</span>"
      ]
     },
     "metadata": {}
    },
    {
     "output_type": "display_data",
     "data": {
      "text/html": [
       "<span style=\"font-family: monospace; color: #f55\">2021-09-07 21:25:23 WARN  main  [PLYMesh] &quot;bunny.ply&quot;: performance warning -- this file uses the ASCII PLY format, which is slow to parse. Consider converting it to the binary PLY format.</span>"
      ]
     },
     "metadata": {}
    },
    {
     "output_type": "display_data",
     "data": {
      "text/html": [
       "<span style=\"font-family: monospace; color: #f55\">2021-09-07 21:25:23 WARN  main  [PLYMesh] Attribute without postifx are not handled for now: attribute &quot;confidence&quot; ignored.</span>"
      ]
     },
     "metadata": {}
    },
    {
     "output_type": "display_data",
     "data": {
      "text/html": [
       "<span style=\"font-family: monospace; color: #f55\">2021-09-07 21:25:23 WARN  main  [PLYMesh] Attribute without postifx are not handled for now: attribute &quot;intensity&quot; ignored.</span>"
      ]
     },
     "metadata": {}
    },
    {
     "output_type": "display_data",
     "data": {
      "text/html": [
       "<span style=\"font-family: monospace; color: #000\">2021-09-07 21:25:23 INFO  main  [Scene] Building scene in OptiX ..</span>"
      ]
     },
     "metadata": {}
    },
    {
     "output_type": "stream",
     "name": "stdout",
     "text": [
      "ParameterMap[\n",
      "    my_envmap.scale,\n",
      "  * my_envmap.data,\n",
      "    my_envmap.resolution,\n",
      "    PLYMesh.to_world,\n",
      "  * PLYMesh.bsdf.specular_reflectance.value,\n",
      "  * PLYMesh.bsdf.eta.value,\n",
      "  * PLYMesh.bsdf.k.value,\n",
      "    PLYMesh.vertex_count,\n",
      "    PLYMesh.face_count,\n",
      "  * PLYMesh.faces_buf,\n",
      "  * PLYMesh.vertex_positions_buf,\n",
      "  * PLYMesh.vertex_normals_buf,\n",
      "  * PLYMesh.vertex_texcoords_buf,\n",
      "    PerspectiveCamera.near_clip,\n",
      "    PerspectiveCamera.far_clip,\n",
      "    PerspectiveCamera.focus_distance,\n",
      "    PerspectiveCamera.shutter_open,\n",
      "    PerspectiveCamera.shutter_open_time,\n",
      "]\n"
     ]
    }
   ],
   "metadata": {}
  },
  {
   "cell_type": "code",
   "execution_count": 4,
   "source": [
    "# Make a backup copy\r\n",
    "param_res = params['my_envmap.resolution']\r\n",
    "param_ref = Float(params['my_envmap.data'])\r\n",
    "\r\n",
    "# Discard all parameters except for one we want to differentiate\r\n",
    "params.keep(['my_envmap.data'])\r\n",
    "\r\n",
    "# Render a reference image (no derivatives used yet)\r\n",
    "image_ref = render(scene, spp=16)\r\n",
    "crop_size = scene.sensors()[0].film().crop_size()\r\n",
    "write_bitmap('temp/out_ref.png', image_ref, crop_size)"
   ],
   "outputs": [],
   "metadata": {}
  },
  {
   "cell_type": "markdown",
   "source": [
    "![out_ref.png](out_ref.png)"
   ],
   "metadata": {}
  },
  {
   "cell_type": "code",
   "execution_count": 7,
   "source": [
    "# Change to a uniform white lighting environment\r\n",
    "params['my_envmap.data'] = ek.full(Float, 1.0, len(param_ref))\r\n",
    "params.update()\r\n",
    "\r\n",
    "from mitsuba.python.autodiff import Adam\r\n",
    "opt = Adam(params, lr=.02)\r\n",
    "\r\n",
    "image = render(scene, spp=8)\r\n",
    "crop_size = scene.sensors()[0].film().crop_size()\r\n",
    "write_bitmap('temp/out_start.png', image, crop_size)\r\n",
    "write_bitmap('temp/envmap_start.png', params['my_envmap.data'],\r\n",
    "                 (param_res[0], param_res[1]))\r\n",
    "\r\n",
    "for it in range(100):\r\n",
    "    # Perform a differentiable rendering of the scene\r\n",
    "    image = render(scene, optimizer=opt, unbiased=True, spp=1)\r\n",
    "\r\n",
    "    # Objective: MSE between 'image' and 'image_ref'\r\n",
    "    ob_val = ek.hsum(ek.sqr(image - image_ref)) / len(image)\r\n",
    "\r\n",
    "    # Back-propagate errors to input parameters\r\n",
    "    ek.backward(ob_val)\r\n",
    "\r\n",
    "    # Optimizer: take a gradient step\r\n",
    "    opt.step()\r\n",
    "\r\n",
    "    err_ref = ek.hsum(ek.sqr(param_ref - params['my_envmap.data']))\r\n",
    "    print('Iteration %03i: error=%g' % (it, err_ref[0]))\r\n",
    "\r\n",
    "\r\n",
    "image = render(scene, spp=8)\r\n",
    "crop_size = scene.sensors()[0].film().crop_size()\r\n",
    "write_bitmap('temp/out_end.png', image, crop_size)\r\n",
    "write_bitmap('temp/envmap_end.png', params['my_envmap.data'],\r\n",
    "                 (param_res[0], param_res[1]))\r\n"
   ],
   "outputs": [
    {
     "output_type": "stream",
     "name": "stdout",
     "text": [
      "Iteration 000: error=85794.4\n",
      "Iteration 001: error=83035.1\n",
      "Iteration 002: error=80315.2\n",
      "Iteration 003: error=77646.2\n",
      "Iteration 004: error=75030.6\n",
      "Iteration 005: error=72471.5\n",
      "Iteration 006: error=69970.6\n",
      "Iteration 007: error=67528\n",
      "Iteration 008: error=65145.6\n",
      "Iteration 009: error=62824\n",
      "Iteration 010: error=60563.8\n",
      "Iteration 011: error=58365.8\n",
      "Iteration 012: error=56230.7\n",
      "Iteration 013: error=54157.6\n",
      "Iteration 014: error=52147.2\n",
      "Iteration 015: error=50199\n",
      "Iteration 016: error=48312.4\n",
      "Iteration 017: error=46487.8\n",
      "Iteration 018: error=44725.2\n",
      "Iteration 019: error=43023.4\n",
      "Iteration 020: error=41381.9\n",
      "Iteration 021: error=39800.3\n",
      "Iteration 022: error=38278.2\n",
      "Iteration 023: error=36813.8\n",
      "Iteration 024: error=35406.4\n",
      "Iteration 025: error=34055.1\n",
      "Iteration 026: error=32759.2\n",
      "Iteration 027: error=31517.4\n",
      "Iteration 028: error=30328.1\n",
      "Iteration 029: error=29191\n",
      "Iteration 030: error=28104.8\n",
      "Iteration 031: error=27067.8\n",
      "Iteration 032: error=26078.3\n",
      "Iteration 033: error=25135.1\n",
      "Iteration 034: error=24236.7\n",
      "Iteration 035: error=23381.7\n",
      "Iteration 036: error=22568.5\n",
      "Iteration 037: error=21795.8\n",
      "Iteration 038: error=21062\n",
      "Iteration 039: error=20365.5\n",
      "Iteration 040: error=19705\n",
      "Iteration 041: error=19079.1\n",
      "Iteration 042: error=18486\n",
      "Iteration 043: error=17924\n",
      "Iteration 044: error=17392.1\n",
      "Iteration 045: error=16888.6\n",
      "Iteration 046: error=16412.6\n",
      "Iteration 047: error=15962.1\n",
      "Iteration 048: error=15537\n",
      "Iteration 049: error=15135.3\n",
      "Iteration 050: error=14755.4\n",
      "Iteration 051: error=14395.6\n",
      "Iteration 052: error=14055.6\n",
      "Iteration 053: error=13734.5\n",
      "Iteration 054: error=13430.8\n",
      "Iteration 055: error=13143.8\n",
      "Iteration 056: error=12872.3\n",
      "Iteration 057: error=12615.3\n",
      "Iteration 058: error=12371.6\n",
      "Iteration 059: error=12140.6\n",
      "Iteration 060: error=11921.4\n",
      "Iteration 061: error=11713.2\n",
      "Iteration 062: error=11515.4\n",
      "Iteration 063: error=11327\n",
      "Iteration 064: error=11147.8\n",
      "Iteration 065: error=10976.9\n",
      "Iteration 066: error=10813.9\n",
      "Iteration 067: error=10658.3\n",
      "Iteration 068: error=10509\n",
      "Iteration 069: error=10366.1\n",
      "Iteration 070: error=10228.8\n",
      "Iteration 071: error=10096.8\n",
      "Iteration 072: error=9970.08\n",
      "Iteration 073: error=9848.31\n",
      "Iteration 074: error=9730.71\n",
      "Iteration 075: error=9617.12\n",
      "Iteration 076: error=9507.25\n",
      "Iteration 077: error=9400.69\n",
      "Iteration 078: error=9297.52\n",
      "Iteration 079: error=9197.69\n",
      "Iteration 080: error=9100.79\n",
      "Iteration 081: error=9006.36\n",
      "Iteration 082: error=8914.59\n",
      "Iteration 083: error=8825.28\n",
      "Iteration 084: error=8738.32\n",
      "Iteration 085: error=8653.93\n",
      "Iteration 086: error=8571.44\n",
      "Iteration 087: error=8491.11\n",
      "Iteration 088: error=8412.75\n",
      "Iteration 089: error=8336.25\n",
      "Iteration 090: error=8260.91\n",
      "Iteration 091: error=8187.2\n",
      "Iteration 092: error=8115.29\n",
      "Iteration 093: error=8044.88\n",
      "Iteration 094: error=7975.92\n",
      "Iteration 095: error=7908.33\n",
      "Iteration 096: error=7842.07\n",
      "Iteration 097: error=7777.01\n",
      "Iteration 098: error=7713.29\n",
      "Iteration 099: error=7651.13\n"
     ]
    }
   ],
   "metadata": {}
  },
  {
   "cell_type": "markdown",
   "source": [
    "![start](temp/out_start.png)\r\n",
    "![end](temp/out_end.png)\r\n",
    "![env_start](temp/envmap_start.png)\r\n",
    "![env_end](temp/envmap_end.png)"
   ],
   "metadata": {}
  }
 ],
 "metadata": {
  "orig_nbformat": 4,
  "language_info": {
   "name": "python",
   "version": "3.9.6",
   "mimetype": "text/x-python",
   "codemirror_mode": {
    "name": "ipython",
    "version": 3
   },
   "pygments_lexer": "ipython3",
   "nbconvert_exporter": "python",
   "file_extension": ".py"
  },
  "kernelspec": {
   "name": "python3",
   "display_name": "Python 3.9.6 64-bit"
  },
  "interpreter": {
   "hash": "4881f5eacd7088bcf5a836f9e344288743d588393de6dc96f82d4b26fa31d287"
  }
 },
 "nbformat": 4,
 "nbformat_minor": 2
}