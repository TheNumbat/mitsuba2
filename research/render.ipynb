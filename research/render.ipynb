{
 "cells": [
  {
   "cell_type": "code",
   "execution_count": 1,
   "metadata": {},
   "outputs": [
    {
     "data": {
      "text/html": [
       "<span style=\"font-family: monospace; color: #000\">2021-11-29 21:41:38 INFO  main  [optix_api.cpp:56] Dynamic loading of the Optix library ..</span>"
      ]
     },
     "metadata": {},
     "output_type": "display_data"
    },
    {
     "data": {
      "text/html": [
       "<span style=\"font-family: monospace; color: #000\">2021-11-29 21:41:38 INFO  main  [xml.cpp:1221] Loading XML file &quot;cbox\\cbox_path_nee.xml&quot; ..</span>"
      ]
     },
     "metadata": {},
     "output_type": "display_data"
    },
    {
     "data": {
      "text/html": [
       "<span style=\"font-family: monospace; color: #000\">2021-11-29 21:41:38 INFO  main  [xml.cpp:1222] Using variant &quot;gpu_autodiff_rgb&quot;</span>"
      ]
     },
     "metadata": {},
     "output_type": "display_data"
    },
    {
     "data": {
      "text/html": [
       "<span style=\"font-family: monospace; color: #000\">2021-11-29 21:41:38 INFO  main  [xml.cpp:355] &quot;cbox\\cbox_path_nee.xml&quot;: in-memory version upgrade (v2.0.0 -&gt; v2.2.1) ..</span>"
      ]
     },
     "metadata": {},
     "output_type": "display_data"
    },
    {
     "data": {
      "text/html": [
       "<span style=\"font-family: monospace; color: #000\">2021-11-29 21:41:38 INFO  main  [PluginManager] Loading plugin &quot;plugins\\srgb.dll&quot; ..</span>"
      ]
     },
     "metadata": {},
     "output_type": "display_data"
    },
    {
     "data": {
      "text/html": [
       "<span style=\"font-family: monospace; color: #000\">2021-11-29 21:41:38 INFO  main  [PluginManager] Loading plugin &quot;plugins\\srgb_d65.dll&quot; ..</span>"
      ]
     },
     "metadata": {},
     "output_type": "display_data"
    },
    {
     "data": {
      "text/html": [
       "<span style=\"font-family: monospace; color: #000\">2021-11-29 21:41:38 INFO  main  [PluginManager] Loading plugin &quot;plugins\\bitmap.dll&quot; ..</span>"
      ]
     },
     "metadata": {},
     "output_type": "display_data"
    },
    {
     "data": {
      "text/html": [
       "<span style=\"font-family: monospace; color: #000\">2021-11-29 21:41:38 INFO  main  [PluginManager] Loading plugin &quot;plugins\\diffuse.dll&quot; ..</span>"
      ]
     },
     "metadata": {},
     "output_type": "display_data"
    },
    {
     "data": {
      "text/html": [
       "<span style=\"font-family: monospace; color: #000\">2021-11-29 21:41:38 INFO  main  [PluginManager] Loading plugin &quot;plugins\\obj.dll&quot; ..</span>"
      ]
     },
     "metadata": {},
     "output_type": "display_data"
    },
    {
     "data": {
      "text/html": [
       "<span style=\"font-family: monospace; color: #000\">2021-11-29 21:41:38 INFO  main  [PluginManager] Loading plugin &quot;plugins\\path_texture_space.dll&quot; ..</span>"
      ]
     },
     "metadata": {},
     "output_type": "display_data"
    },
    {
     "data": {
      "text/html": [
       "<span style=\"font-family: monospace; color: #f55\">2021-11-29 21:41:38 WARN  main  [PathTextureSpaceIntegrator] PathTextureSpaceIntegrator using shape: wall_shape</span>"
      ]
     },
     "metadata": {},
     "output_type": "display_data"
    },
    {
     "data": {
      "text/html": [
       "<span style=\"font-family: monospace; color: #000\">2021-11-29 21:41:38 INFO  main  [PluginManager] Loading plugin &quot;plugins\\independent.dll&quot; ..</span>"
      ]
     },
     "metadata": {},
     "output_type": "display_data"
    },
    {
     "data": {
      "text/html": [
       "<span style=\"font-family: monospace; color: #000\">2021-11-29 21:41:38 INFO  main  [PluginManager] Loading plugin &quot;plugins\\gaussian.dll&quot; ..</span>"
      ]
     },
     "metadata": {},
     "output_type": "display_data"
    },
    {
     "data": {
      "text/html": [
       "<span style=\"font-family: monospace; color: #000\">2021-11-29 21:41:38 INFO  main  [PluginManager] Loading plugin &quot;plugins\\hdrfilm.dll&quot; ..</span>"
      ]
     },
     "metadata": {},
     "output_type": "display_data"
    },
    {
     "data": {
      "text/html": [
       "<span style=\"font-family: monospace; color: #000\">2021-11-29 21:41:38 INFO  main  [PluginManager] Loading plugin &quot;plugins\\perspective.dll&quot; ..</span>"
      ]
     },
     "metadata": {},
     "output_type": "display_data"
    },
    {
     "data": {
      "text/html": [
       "<span style=\"font-family: monospace; color: #000\">2021-11-29 21:41:38 INFO  main  [PluginManager] Loading plugin &quot;plugins\\area.dll&quot; ..</span>"
      ]
     },
     "metadata": {},
     "output_type": "display_data"
    },
    {
     "data": {
      "text/html": [
       "<span style=\"font-family: monospace; color: #000\">2021-11-29 21:41:38 INFO  main  [PluginManager] Loading plugin &quot;plugins\\uniform.dll&quot; ..</span>"
      ]
     },
     "metadata": {},
     "output_type": "display_data"
    },
    {
     "data": {
      "text/html": [
       "<span style=\"font-family: monospace; color: #000\">2021-11-29 21:41:38 INFO  main  [Scene] Building scene in OptiX ..</span>"
      ]
     },
     "metadata": {},
     "output_type": "display_data"
    },
    {
     "name": "stdout",
     "output_type": "stream",
     "text": [
      "[16, 16] [0, 0, 0, 0, 0, .. 758 skipped .., 0.520996, 0.799103, 0.577581, 0.520996, 0.799103]\n"
     ]
    }
   ],
   "source": [
    "import enoki as ek\n",
    "import mitsuba\n",
    "mitsuba.set_variant('gpu_autodiff_rgb')\n",
    "\n",
    "from mitsuba.core import Thread, Float\n",
    "from mitsuba.core.xml import load_file\n",
    "from mitsuba.python.util import traverse\n",
    "from mitsuba.python.autodiff import render, write_bitmap\n",
    "\n",
    "# Load the Cornell Box\n",
    "Thread.thread().file_resolver().append('cbox/')\n",
    "\n",
    "# scene = load_file('cbox/cbox_path.xml')\n",
    "# scene = load_file('cbox/cbox_direct.xml')\n",
    "# scene = load_file('cbox/cbox_path_tc.xml')\n",
    "# scene = load_file('cbox/cbox_direct_tc.xml')\n",
    "scene = load_file('cbox/cbox_path_nee.xml')\n",
    "\n",
    "# Find differentiable scene parameters\n",
    "params = traverse(scene)\n",
    "\n",
    "wall_res = params['wall_bsdf.reflectance.resolution']\n",
    "wall_data = Float(params['wall_bsdf.reflectance.data'])\n",
    "print(wall_res, wall_data)\n",
    "\n",
    "params.keep(['wall_bsdf.reflectance.data'])"
   ]
  },
  {
   "cell_type": "code",
   "execution_count": 2,
   "metadata": {},
   "outputs": [],
   "source": [
    "image_ref = render(scene, spp=256)\n",
    "crop_size = scene.sensors()[0].film().crop_size()\n",
    "write_bitmap('out/out_ref.png', image_ref, crop_size)"
   ]
  },
  {
   "cell_type": "markdown",
   "metadata": {},
   "source": [
    "![out_ref.png](out/out_ref.png)"
   ]
  },
  {
   "cell_type": "code",
   "execution_count": 3,
   "metadata": {},
   "outputs": [
    {
     "name": "stdout",
     "output_type": "stream",
     "text": [
      "0.190929,319.126\n",
      "0.16333,299.092\n",
      "0.181248,266.123\n",
      "0.154855,236.294\n",
      "0.191595,208.768\n",
      "0.188959,184.368\n",
      "0.195578,163.781\n",
      "0.225414,146.487\n",
      "0.210091,134.184\n",
      "0.130853,127.142\n",
      "0.125745,124.93\n",
      "0.136859,126.5\n",
      "0.113117,131.652\n",
      "0.145669,139.461\n",
      "0.11776,150.157\n",
      "0.110125,163.18\n",
      "0.0959142,178.025\n",
      "0.120677,195.015\n",
      "0.134207,214.326\n",
      "0.12168,235.087\n",
      "0.118898,256.95\n",
      "0.125804,279.843\n",
      "0.106032,302.187\n",
      "0.10438,323.575\n",
      "0.106236,346.945\n",
      "0.105565,370.294\n",
      "0.12533,393.712\n",
      "0.108627,416.055\n",
      "0.130136,435.545\n",
      "0.128209,454.732\n",
      "0.109019,471.69\n",
      "0.110106,487.445\n",
      "0.141131,503.148\n",
      "0.139307,519.659\n",
      "0.122747,534.479\n",
      "0.153601,547.795\n",
      "0.125226,559.953\n",
      "0.151914,572.029\n",
      "0.131171,581.596\n",
      "0.122191,590.388\n",
      "0.133401,598.299\n",
      "0.118317,607.227\n",
      "0.123638,614.479\n",
      "0.140247,620.199\n",
      "0.117539,624.991\n",
      "0.130259,627.658\n",
      "0.122779,630.816\n",
      "0.145152,634.066\n",
      "0.131587,637.798\n",
      "0.121316,642.977\n",
      "0.146217,647.222\n",
      "0.121168,651.709\n",
      "0.156225,656.979\n",
      "0.120625,662.659\n",
      "0.148415,667.31\n",
      "0.138391,670.324\n",
      "0.132824,672.375\n",
      "0.113634,671.28\n",
      "0.135116,670.857\n",
      "0.117065,670.112\n",
      "0.135914,668.459\n",
      "0.140956,668.384\n",
      "0.124297,668.225\n",
      "0.120459,668.315\n",
      "0.128327,668.936\n",
      "0.14355,672.246\n",
      "0.137525,674.188\n",
      "0.137045,674.782\n",
      "0.132387,675.844\n",
      "0.138161,677.278\n",
      "0.142045,682.023\n",
      "0.119157,686.581\n",
      "0.169087,691.789\n",
      "0.109483,695.89\n",
      "0.122862,700.127\n",
      "0.153366,703.894\n",
      "0.154289,706.278\n",
      "0.111851,709.409\n",
      "0.118608,713.168\n",
      "0.117995,718.058\n",
      "0.131404,723.643\n",
      "0.145557,729.448\n",
      "0.12806,733.915\n",
      "0.11803,738.131\n",
      "0.110228,743.991\n",
      "0.111339,749.264\n",
      "0.129327,755.676\n",
      "0.164185,761.179\n",
      "0.118297,767.316\n",
      "0.140279,775.088\n",
      "0.138074,783.209\n",
      "0.154421,790.897\n",
      "0.152773,797.229\n",
      "0.12839,803.514\n",
      "0.113677,807.923\n",
      "0.134248,813.405\n",
      "0.123324,818.808\n",
      "0.155011,822.313\n",
      "0.140554,827.123\n",
      "0.123351,833.153\n",
      "0.134157,840.391\n",
      "0.165841,845.687\n",
      "0.157746,850.297\n",
      "0.131597,854.452\n",
      "0.147245,857.965\n",
      "0.141189,862.043\n",
      "0.133434,866.013\n",
      "0.148195,868.003\n",
      "0.118967,870.383\n",
      "0.133349,871.899\n",
      "0.160759,874.1\n",
      "0.158629,876.552\n",
      "0.13607,881.185\n",
      "0.148288,885.431\n",
      "0.164893,889.304\n",
      "0.124772,896.109\n",
      "0.149356,903.14\n",
      "0.120074,907.685\n",
      "0.125363,909.787\n",
      "0.16573,912.413\n",
      "0.133047,915.049\n",
      "0.117505,917.789\n",
      "0.168064,920.92\n",
      "0.126781,924.131\n",
      "0.173918,927.076\n",
      "0.11975,931.802\n",
      "0.153755,934.812\n",
      "0.158405,936.985\n",
      "0.185062,940.431\n",
      "0.158332,941.981\n",
      "0.131955,943.149\n",
      "0.144302,943.318\n",
      "0.137385,946.446\n",
      "0.136983,949.596\n",
      "0.130626,953.693\n",
      "0.158655,958.26\n",
      "0.129504,963.655\n",
      "0.136162,969.302\n",
      "0.145185,974.965\n",
      "0.151715,979.143\n",
      "0.133767,982.678\n",
      "0.160602,987.917\n",
      "0.152688,995.252\n",
      "0.146145,1002.19\n",
      "0.143089,1007.21\n",
      "0.158962,1013.44\n",
      "0.170396,1019.36\n",
      "0.160216,1025.47\n",
      "0.157302,1031.63\n",
      "0.146686,1038.48\n",
      "0.144532,1045.17\n",
      "0.136496,1052.03\n",
      "0.136682,1059.81\n",
      "0.149347,1066.37\n",
      "0.155068,1072.69\n",
      "0.170385,1078.04\n",
      "0.157357,1084.29\n",
      "0.142639,1091.5\n",
      "0.146427,1099.71\n",
      "0.156286,1107.87\n",
      "0.169199,1115.8\n",
      "0.168982,1123.09\n",
      "0.167486,1129.24\n",
      "0.150948,1137.13\n",
      "0.155961,1143.95\n",
      "0.12578,1152.5\n",
      "0.131133,1160.38\n",
      "0.146965,1167.47\n",
      "0.14947,1175.01\n",
      "0.142255,1183.47\n",
      "0.195122,1190.46\n",
      "0.175041,1194.52\n",
      "0.272021,1197.69\n",
      "0.1692,1201.22\n",
      "0.138004,1204.59\n",
      "0.175053,1206.59\n",
      "0.133048,1209.16\n",
      "0.180928,1212.87\n",
      "0.142168,1216.82\n",
      "0.144505,1222.03\n",
      "0.147012,1229.5\n",
      "0.209372,1237.33\n",
      "0.129478,1244.98\n",
      "0.143571,1252.72\n",
      "0.159529,1259.21\n",
      "0.149424,1267.06\n",
      "0.145238,1273.64\n",
      "0.146635,1281.05\n",
      "0.169745,1285.99\n",
      "0.148534,1290.76\n",
      "0.179518,1293.97\n",
      "0.149001,1298.94\n",
      "0.150833,1304.47\n",
      "0.170011,1311.49\n",
      "0.199181,1318.03\n",
      "0.185468,1320.53\n",
      "0.195866,1327.87\n",
      "0.142676,1335.45\n",
      "0.16529,1341.29\n",
      "0.207651,1345.04\n"
     ]
    }
   ],
   "source": [
    "params['wall_bsdf.reflectance.data'] = ek.full(Float, 1.0, len(wall_data))\n",
    "params.update()\n",
    "\n",
    "from mitsuba.python.autodiff import Adam\n",
    "opt = Adam(params, lr=0.1)\n",
    "\n",
    "image = render(scene, spp=8)\n",
    "crop_size = scene.sensors()[0].film().crop_size()\n",
    "write_bitmap('out/out_start.png', image, crop_size)\n",
    "write_bitmap('out/wall_start.png', params['wall_bsdf.reflectance.data'],\n",
    "                 (wall_res[0], wall_res[1]))\n",
    "\n",
    "for it in range(200):\n",
    "    # Perform a differentiable rendering of the scene\n",
    "    image = render(scene, optimizer=opt, unbiased=True, spp=1)\n",
    "\n",
    "    # Objective: MSE between 'image' and 'image_ref'\n",
    "    ob_val = ek.hsum(ek.sqr(image - image_ref)) / len(image)\n",
    "\n",
    "    # Back-propagate errors to input parameters\n",
    "    ek.backward(ob_val)\n",
    "\n",
    "    # Optimizer: take a gradient step\n",
    "    opt.step()\n",
    "\n",
    "    err_ref = ek.hsum(ek.sqr(wall_data - params['wall_bsdf.reflectance.data']))\n",
    "\n",
    "    print('%g,%g' % (ob_val[0], err_ref[0]))\n",
    "\n",
    "image = render(scene, spp=8)\n",
    "crop_size = scene.sensors()[0].film().crop_size()\n",
    "write_bitmap('out/out_end.png', image, crop_size)\n",
    "write_bitmap('out/wall_end.png', params['wall_bsdf.reflectance.data'],\n",
    "                 (wall_res[0], wall_res[1]))"
   ]
  },
  {
   "cell_type": "markdown",
   "metadata": {},
   "source": [
    "![start](out/out_start.png)\n",
    "![end](out/out_end.png)\n",
    "![start](out/wall_start.png)\n",
    "![end](out/wall_end.png)"
   ]
  }
 ],
 "metadata": {
  "interpreter": {
   "hash": "4881f5eacd7088bcf5a836f9e344288743d588393de6dc96f82d4b26fa31d287"
  },
  "kernelspec": {
   "display_name": "Python 3.9.6 64-bit",
   "name": "python3"
  },
  "language_info": {
   "codemirror_mode": {
    "name": "ipython",
    "version": 3
   },
   "file_extension": ".py",
   "mimetype": "text/x-python",
   "name": "python",
   "nbconvert_exporter": "python",
   "pygments_lexer": "ipython3",
   "version": "3.9.6"
  },
  "orig_nbformat": 4
 },
 "nbformat": 4,
 "nbformat_minor": 2
}
