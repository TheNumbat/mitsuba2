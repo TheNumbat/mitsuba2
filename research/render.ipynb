{
 "cells": [
  {
   "cell_type": "code",
   "execution_count": 7,
   "metadata": {},
   "outputs": [
    {
     "data": {
      "text/html": [
       "<span style=\"font-family: monospace; color: #000\">2021-11-30 14:08:07 INFO  main  [xml.cpp:1221] Loading XML file &quot;cbox\\cbox_path_nee.xml&quot; ..</span>"
      ]
     },
     "metadata": {},
     "output_type": "display_data"
    },
    {
     "data": {
      "text/html": [
       "<span style=\"font-family: monospace; color: #000\">2021-11-30 14:08:07 INFO  main  [xml.cpp:1222] Using variant &quot;gpu_autodiff_rgb&quot;</span>"
      ]
     },
     "metadata": {},
     "output_type": "display_data"
    },
    {
     "data": {
      "text/html": [
       "<span style=\"font-family: monospace; color: #000\">2021-11-30 14:08:07 INFO  main  [xml.cpp:355] &quot;cbox\\cbox_path_nee.xml&quot;: in-memory version upgrade (v2.0.0 -&gt; v2.2.1) ..</span>"
      ]
     },
     "metadata": {},
     "output_type": "display_data"
    },
    {
     "data": {
      "text/html": [
       "<span style=\"font-family: monospace; color: #f55\">2021-11-30 14:08:07 WARN  main  [PathTextureSpaceIntegrator] PathTextureSpaceIntegrator using shape: wall_shape</span>"
      ]
     },
     "metadata": {},
     "output_type": "display_data"
    },
    {
     "data": {
      "text/html": [
       "<span style=\"font-family: monospace; color: #f55\">2021-11-30 14:08:07 WARN  main  [PathTextureSpaceIntegrator] PathTextureSpaceIntegrator using integrator: </span>"
      ]
     },
     "metadata": {},
     "output_type": "display_data"
    },
    {
     "data": {
      "text/html": [
       "<span style=\"font-family: monospace; color: #000\">2021-11-30 14:08:07 INFO  main  [Scene] Building scene in OptiX ..</span>"
      ]
     },
     "metadata": {},
     "output_type": "display_data"
    },
    {
     "name": "stdout",
     "output_type": "stream",
     "text": [
      "[16, 16] [0, 0, 0, 0, 0, .. 758 skipped .., 0.520996, 0.799103, 0.577581, 0.520996, 0.799103]\n"
     ]
    }
   ],
   "source": [
    "import enoki as ek\n",
    "import mitsuba\n",
    "mitsuba.set_variant('gpu_autodiff_rgb')\n",
    "\n",
    "from mitsuba.core import Thread, Float\n",
    "from mitsuba.core.xml import load_file\n",
    "from mitsuba.python.util import traverse\n",
    "from mitsuba.python.autodiff import render, write_bitmap\n",
    "\n",
    "# Load the Cornell Box\n",
    "Thread.thread().file_resolver().append('cbox/')\n",
    "\n",
    "# scene = load_file('cbox/cbox_path.xml')\n",
    "# scene = load_file('cbox/cbox_direct.xml')\n",
    "# scene = load_file('cbox/cbox_path_tc.xml')\n",
    "# scene = load_file('cbox/cbox_direct_tc.xml')\n",
    "scene = load_file('cbox/cbox_path_nee.xml')\n",
    "\n",
    "# Find differentiable scene parameters\n",
    "params = traverse(scene)\n",
    "\n",
    "wall_res = params['wall_bsdf.reflectance.resolution']\n",
    "wall_data = Float(params['wall_bsdf.reflectance.data'])\n",
    "print(wall_res, wall_data)\n",
    "\n",
    "params.keep(['wall_bsdf.reflectance.data'])"
   ]
  },
  {
   "cell_type": "code",
   "execution_count": 8,
   "metadata": {},
   "outputs": [],
   "source": [
    "image_ref = render(scene, spp=256)\n",
    "crop_size = scene.sensors()[0].film().crop_size()\n",
    "write_bitmap('out/out_ref.png', image_ref, crop_size)"
   ]
  },
  {
   "cell_type": "markdown",
   "metadata": {},
   "source": [
    "![out_ref.png](out/out_ref.png)"
   ]
  },
  {
   "cell_type": "code",
   "execution_count": 4,
   "metadata": {},
   "outputs": [
    {
     "name": "stdout",
     "output_type": "stream",
     "text": [
      "nan,nan\n",
      "nan,nan\n",
      "nan,nan\n",
      "nan,nan\n",
      "nan,nan\n",
      "nan,nan\n",
      "nan,nan\n",
      "nan,nan\n",
      "nan,nan\n",
      "nan,nan\n"
     ]
    }
   ],
   "source": [
    "params['wall_bsdf.reflectance.data'] = ek.full(Float, 1.0, len(wall_data))\n",
    "params.update()\n",
    "\n",
    "from mitsuba.python.autodiff import Adam\n",
    "opt = Adam(params, lr=0.1)\n",
    "\n",
    "image = render(scene, spp=8)\n",
    "crop_size = scene.sensors()[0].film().crop_size()\n",
    "write_bitmap('out/out_start.png', image, crop_size)\n",
    "write_bitmap('out/wall_start.png', params['wall_bsdf.reflectance.data'],\n",
    "                 (wall_res[0], wall_res[1]))\n",
    "\n",
    "for it in range(10):\n",
    "    # Perform a differentiable rendering of the scene\n",
    "    image = render(scene, optimizer=opt, unbiased=True, spp=1)\n",
    "\n",
    "    # Objective: MSE between 'image' and 'image_ref'\n",
    "    ob_val = ek.hsum(ek.sqr(image - image_ref)) / len(image)\n",
    "\n",
    "    # Back-propagate errors to input parameters\n",
    "    ek.backward(ob_val)\n",
    "\n",
    "    # Optimizer: take a gradient step\n",
    "    opt.step()\n",
    "\n",
    "    err_ref = ek.hsum(ek.sqr(wall_data - params['wall_bsdf.reflectance.data']))\n",
    "\n",
    "    print('%g,%g' % (ob_val[0], err_ref[0]))\n",
    "\n",
    "image = render(scene, spp=8)\n",
    "crop_size = scene.sensors()[0].film().crop_size()\n",
    "write_bitmap('out/out_end.png', image, crop_size)\n",
    "write_bitmap('out/wall_end.png', params['wall_bsdf.reflectance.data'],\n",
    "                 (wall_res[0], wall_res[1]))"
   ]
  },
  {
   "cell_type": "markdown",
   "metadata": {},
   "source": [
    "![start](out/out_start.png)\n",
    "![end](out/out_end.png)\n",
    "![start](out/wall_start.png)\n",
    "![end](out/wall_end.png)"
   ]
  }
 ],
 "metadata": {
  "interpreter": {
   "hash": "4881f5eacd7088bcf5a836f9e344288743d588393de6dc96f82d4b26fa31d287"
  },
  "kernelspec": {
   "display_name": "Python 3.9.6 64-bit",
   "name": "python3"
  },
  "language_info": {
   "codemirror_mode": {
    "name": "ipython",
    "version": 3
   },
   "file_extension": ".py",
   "mimetype": "text/x-python",
   "name": "python",
   "nbconvert_exporter": "python",
   "pygments_lexer": "ipython3",
   "version": "3.9.6"
  },
  "orig_nbformat": 4
 },
 "nbformat": 4,
 "nbformat_minor": 2
}
