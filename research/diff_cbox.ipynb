{
 "cells": [
  {
   "cell_type": "code",
   "execution_count": 1,
   "metadata": {},
   "outputs": [
    {
     "data": {
      "text/html": [
       "<span style=\"font-family: monospace; color: #000\">2021-11-29 15:15:48 INFO  main  [optix_api.cpp:56] Dynamic loading of the Optix library ..</span>"
      ]
     },
     "metadata": {},
     "output_type": "display_data"
    },
    {
     "name": "stdout",
     "output_type": "stream",
     "text": [
      "[2, 4, 6]\n"
     ]
    }
   ],
   "source": [
    "import mitsuba\n",
    "mitsuba.set_variant('gpu_autodiff_rgb')\n",
    "\n",
    "# The C++ type associated with 'Float' is enoki::DiffArray<enoki::CUDAArray<float>>\n",
    "from mitsuba.core import Float\n",
    "import enoki as ek\n",
    "\n",
    "# Initialize a dynamic CUDA floating point array with some values\n",
    "x = Float([1, 2, 3])\n",
    "\n",
    "# Tell Enoki that we'll later be interested in gradients of\n",
    "# an as-of-yet unspecified objective function with respect to 'x'\n",
    "ek.set_requires_gradient(x)\n",
    "\n",
    "# Example objective function: sum of squares\n",
    "y = ek.hsum(x * x)\n",
    "\n",
    "# Now back-propagate gradient wrt. 'y' to input variables (i.e. 'x')\n",
    "ek.backward(y)\n",
    "\n",
    "# Prints: [2, 4, 6]\n",
    "print(ek.gradient(x))"
   ]
  },
  {
   "cell_type": "code",
   "execution_count": 2,
   "metadata": {},
   "outputs": [
    {
     "data": {
      "text/html": [
       "<span style=\"font-family: monospace; color: #000\">2021-11-29 15:15:50 INFO  main  [xml.cpp:1221] Loading XML file &quot;C:\\Users\\Max\\Code\\mitsuba2\\resources\\data\\scenes\\cbox\\cbox.xml&quot; ..</span>"
      ]
     },
     "metadata": {},
     "output_type": "display_data"
    },
    {
     "data": {
      "text/html": [
       "<span style=\"font-family: monospace; color: #000\">2021-11-29 15:15:50 INFO  main  [xml.cpp:1222] Using variant &quot;gpu_autodiff_rgb&quot;</span>"
      ]
     },
     "metadata": {},
     "output_type": "display_data"
    },
    {
     "data": {
      "text/html": [
       "<span style=\"font-family: monospace; color: #000\">2021-11-29 15:15:50 INFO  main  [xml.cpp:355] &quot;C:\\Users\\Max\\Code\\mitsuba2\\resources\\data\\scenes\\cbox\\cbox.xml&quot;: in-memory version upgrade (v2.0.0 -&gt; v2.2.1) ..</span>"
      ]
     },
     "metadata": {},
     "output_type": "display_data"
    },
    {
     "data": {
      "text/html": [
       "<span style=\"font-family: monospace; color: #000\">2021-11-29 15:15:50 INFO  main  [PluginManager] Loading plugin &quot;plugins\\srgb.dll&quot; ..</span>"
      ]
     },
     "metadata": {},
     "output_type": "display_data"
    },
    {
     "data": {
      "text/html": [
       "<span style=\"font-family: monospace; color: #000\">2021-11-29 15:15:50 INFO  main  [PluginManager] Loading plugin &quot;plugins\\srgb_d65.dll&quot; ..</span>"
      ]
     },
     "metadata": {},
     "output_type": "display_data"
    },
    {
     "data": {
      "text/html": [
       "<span style=\"font-family: monospace; color: #000\">2021-11-29 15:15:50 INFO  main  [PluginManager] Loading plugin &quot;plugins\\path.dll&quot; ..</span>"
      ]
     },
     "metadata": {},
     "output_type": "display_data"
    },
    {
     "data": {
      "text/html": [
       "<span style=\"font-family: monospace; color: #000\">2021-11-29 15:15:50 INFO  main  [PluginManager] Loading plugin &quot;plugins\\independent.dll&quot; ..</span>"
      ]
     },
     "metadata": {},
     "output_type": "display_data"
    },
    {
     "data": {
      "text/html": [
       "<span style=\"font-family: monospace; color: #000\">2021-11-29 15:15:50 INFO  main  [PluginManager] Loading plugin &quot;plugins\\gaussian.dll&quot; ..</span>"
      ]
     },
     "metadata": {},
     "output_type": "display_data"
    },
    {
     "data": {
      "text/html": [
       "<span style=\"font-family: monospace; color: #000\">2021-11-29 15:15:50 INFO  main  [PluginManager] Loading plugin &quot;plugins\\hdrfilm.dll&quot; ..</span>"
      ]
     },
     "metadata": {},
     "output_type": "display_data"
    },
    {
     "data": {
      "text/html": [
       "<span style=\"font-family: monospace; color: #000\">2021-11-29 15:15:50 INFO  main  [PluginManager] Loading plugin &quot;plugins\\tex_samp.dll&quot; ..</span>"
      ]
     },
     "metadata": {},
     "output_type": "display_data"
    },
    {
     "data": {
      "text/html": [
       "<span style=\"font-family: monospace; color: #000\">2021-11-29 15:15:50 INFO  main  [PluginManager] Loading plugin &quot;plugins\\diffuse.dll&quot; ..</span>"
      ]
     },
     "metadata": {},
     "output_type": "display_data"
    },
    {
     "data": {
      "text/html": [
       "<span style=\"font-family: monospace; color: #000\">2021-11-29 15:15:50 INFO  main  [PluginManager] Loading plugin &quot;plugins\\area.dll&quot; ..</span>"
      ]
     },
     "metadata": {},
     "output_type": "display_data"
    },
    {
     "data": {
      "text/html": [
       "<span style=\"font-family: monospace; color: #000\">2021-11-29 15:15:50 INFO  main  [PluginManager] Loading plugin &quot;plugins\\uniform.dll&quot; ..</span>"
      ]
     },
     "metadata": {},
     "output_type": "display_data"
    },
    {
     "data": {
      "text/html": [
       "<span style=\"font-family: monospace; color: #000\">2021-11-29 15:15:50 INFO  main  [PluginManager] Loading plugin &quot;plugins\\obj.dll&quot; ..</span>"
      ]
     },
     "metadata": {},
     "output_type": "display_data"
    },
    {
     "data": {
      "text/html": [
       "<span style=\"font-family: monospace; color: #000\">2021-11-29 15:15:50 INFO  main  [Scene] Building scene in OptiX ..</span>"
      ]
     },
     "metadata": {},
     "output_type": "display_data"
    },
    {
     "name": "stdout",
     "output_type": "stream",
     "text": [
      "[[0.569717, 0.0430139, 0.0443233]]\n",
      "ParameterMap[\n",
      "  * red.reflectance.value,\n",
      "]\n"
     ]
    }
   ],
   "source": [
    "import enoki as ek\n",
    "import mitsuba\n",
    "mitsuba.set_variant('gpu_autodiff_rgb')\n",
    "\n",
    "from mitsuba.core import Thread\n",
    "from mitsuba.core.xml import load_file\n",
    "from mitsuba.python.util import traverse\n",
    "from mitsuba.python.autodiff import render, write_bitmap\n",
    "from mitsuba.core import Color3f\n",
    "\n",
    "# Load the Cornell Box\n",
    "Thread.thread().file_resolver().append('C:/Users/Max/Code/mitsuba2/resources/data/scenes/cbox/')\n",
    "scene = load_file('C:/Users/Max/Code/mitsuba2/resources/data/scenes/cbox/cbox.xml')\n",
    "\n",
    "# Find differentiable scene parameters\n",
    "params = traverse(scene)\n",
    "\n",
    "param_ref = Color3f(params['red.reflectance.value'])\n",
    "params.keep(['red.reflectance.value'])\n",
    "print(param_ref)\n",
    "print(params)"
   ]
  },
  {
   "cell_type": "code",
   "execution_count": 3,
   "metadata": {},
   "outputs": [],
   "source": [
    "image_ref = render(scene, spp=8)\n",
    "crop_size = scene.sensors()[0].film().crop_size()\n",
    "write_bitmap('temp/out_ref.png', image_ref, crop_size)"
   ]
  },
  {
   "cell_type": "markdown",
   "metadata": {},
   "source": [
    "![out_ref.png](out_ref.png)"
   ]
  },
  {
   "cell_type": "code",
   "execution_count": 4,
   "metadata": {},
   "outputs": [
    {
     "name": "stdout",
     "output_type": "stream",
     "text": [
      "Iteration 000: error=0.879108\n",
      "Iteration 001: error=0.427435\n",
      "Iteration 002: error=0.17983\n",
      "Iteration 003: error=0.0704628\n",
      "Iteration 004: error=0.051545\n",
      "Iteration 005: error=0.0358767\n",
      "Iteration 006: error=0.0175408\n",
      "Iteration 007: error=0.00573612\n",
      "Iteration 008: error=0.00469874\n",
      "Iteration 009: error=0.0118884\n",
      "Iteration 010: error=0.0199318\n",
      "Iteration 011: error=0.0220037\n",
      "Iteration 012: error=0.0176046\n",
      "Iteration 013: error=0.0105169\n",
      "Iteration 014: error=0.00519656\n",
      "Iteration 015: error=0.00386257\n",
      "Iteration 016: error=0.00586939\n",
      "Iteration 017: error=0.00919438\n",
      "Iteration 018: error=0.0116088\n",
      "Iteration 019: error=0.0113934\n",
      "Iteration 020: error=0.00905004\n",
      "Iteration 021: error=0.00587572\n",
      "Iteration 022: error=0.00335412\n",
      "Iteration 023: error=0.00242183\n",
      "Iteration 024: error=0.00306424\n",
      "Iteration 025: error=0.00420559\n",
      "Iteration 026: error=0.00444144\n",
      "Iteration 027: error=0.00358264\n",
      "Iteration 028: error=0.00204941\n",
      "Iteration 029: error=0.00102251\n",
      "Iteration 030: error=0.00116259\n",
      "Iteration 031: error=0.00232429\n",
      "Iteration 032: error=0.00378185\n",
      "Iteration 033: error=0.00454804\n",
      "Iteration 034: error=0.00417536\n",
      "Iteration 035: error=0.00265822\n",
      "Iteration 036: error=0.00102389\n",
      "Iteration 037: error=7.95716e-05\n",
      "Iteration 038: error=0.000186385\n",
      "Iteration 039: error=0.000961652\n",
      "Iteration 040: error=0.00172181\n",
      "Iteration 041: error=0.00193962\n",
      "Iteration 042: error=0.00155587\n",
      "Iteration 043: error=0.000858398\n",
      "Iteration 044: error=0.000375897\n",
      "Iteration 045: error=0.000206504\n",
      "Iteration 046: error=0.000300456\n",
      "Iteration 047: error=0.000546294\n",
      "Iteration 048: error=0.000638325\n",
      "Iteration 049: error=0.000523505\n",
      "Iteration 050: error=0.000351985\n",
      "Iteration 051: error=0.000354346\n",
      "Iteration 052: error=0.00053512\n",
      "Iteration 053: error=0.000761171\n",
      "Iteration 054: error=0.000813198\n",
      "Iteration 055: error=0.000607503\n",
      "Iteration 056: error=0.000246368\n",
      "Iteration 057: error=6.05492e-05\n",
      "Iteration 058: error=4.86284e-05\n",
      "Iteration 059: error=0.000135647\n",
      "Iteration 060: error=0.000232081\n",
      "Iteration 061: error=0.000167226\n",
      "Iteration 062: error=8.47448e-05\n",
      "Iteration 063: error=4.4567e-05\n",
      "Iteration 064: error=4.82095e-05\n",
      "Iteration 065: error=9.50206e-05\n",
      "Iteration 066: error=0.000142955\n",
      "Iteration 067: error=5.69317e-05\n",
      "Iteration 068: error=1.59707e-06\n",
      "Iteration 069: error=3.57226e-05\n",
      "Iteration 070: error=0.000128259\n",
      "Iteration 071: error=0.00015699\n",
      "Iteration 072: error=0.000162576\n",
      "Iteration 073: error=7.34699e-05\n",
      "Iteration 074: error=7.05508e-06\n",
      "Iteration 075: error=3.62132e-07\n",
      "Iteration 076: error=1.00191e-05\n",
      "Iteration 077: error=5.75446e-05\n",
      "Iteration 078: error=0.000111825\n",
      "Iteration 079: error=0.000149286\n",
      "Iteration 080: error=0.000220245\n",
      "Iteration 081: error=0.00026689\n",
      "Iteration 082: error=0.000221864\n",
      "Iteration 083: error=0.000152767\n",
      "Iteration 084: error=0.000111958\n",
      "Iteration 085: error=9.03649e-05\n",
      "Iteration 086: error=7.72239e-05\n",
      "Iteration 087: error=4.60666e-05\n",
      "Iteration 088: error=3.63783e-05\n",
      "Iteration 089: error=5.0676e-05\n",
      "Iteration 090: error=0.000135537\n",
      "Iteration 091: error=0.000206194\n",
      "Iteration 092: error=0.000194029\n",
      "Iteration 093: error=0.000120397\n",
      "Iteration 094: error=7.5722e-05\n",
      "Iteration 095: error=2.4495e-05\n",
      "Iteration 096: error=3.83311e-05\n",
      "Iteration 097: error=7.79056e-05\n",
      "Iteration 098: error=0.000247203\n",
      "Iteration 099: error=0.000459776\n",
      "[[0.569717, 0.0430139, 0.0443233]]\n",
      "[[0.576629, 0.0571555, 0.0588841]]\n"
     ]
    }
   ],
   "source": [
    "params['red.reflectance.value'] = [.9, .9, .9]\n",
    "params.update()\n",
    "\n",
    "from mitsuba.python.autodiff import Adam\n",
    "opt = Adam(params, lr=.2)\n",
    "\n",
    "image = render(scene, spp=8)\n",
    "crop_size = scene.sensors()[0].film().crop_size()\n",
    "write_bitmap('temp/out_start.png', image, crop_size)\n",
    "\n",
    "for it in range(100):\n",
    "    # Perform a differentiable rendering of the scene\n",
    "    image = render(scene, optimizer=opt, unbiased=True, spp=1)\n",
    "\n",
    "    # Objective: MSE between 'image' and 'image_ref'\n",
    "    ob_val = ek.hsum(ek.sqr(image - image_ref)) / len(image)\n",
    "\n",
    "    # Back-propagate errors to input parameters\n",
    "    ek.backward(ob_val)\n",
    "\n",
    "    # Optimizer: take a gradient step\n",
    "    opt.step()\n",
    "\n",
    "    err_ref = ek.hsum(ek.sqr(param_ref - params['red.reflectance.value']))\n",
    "    print('Iteration %03i: error=%g' % (it, err_ref[0]))\n",
    "\n",
    "print(param_ref)\n",
    "print(params['red.reflectance.value'])\n",
    "\n",
    "image = render(scene, spp=8)\n",
    "crop_size = scene.sensors()[0].film().crop_size()\n",
    "write_bitmap('temp/out_end.png', image, crop_size)\n"
   ]
  },
  {
   "cell_type": "markdown",
   "metadata": {},
   "source": [
    "![start](temp/out_start.png)\n",
    "![end](temp/out_end.png)"
   ]
  }
 ],
 "metadata": {
  "interpreter": {
   "hash": "4881f5eacd7088bcf5a836f9e344288743d588393de6dc96f82d4b26fa31d287"
  },
  "kernelspec": {
   "display_name": "Python 3.9.6 64-bit",
   "name": "python3"
  },
  "language_info": {
   "codemirror_mode": {
    "name": "ipython",
    "version": 3
   },
   "file_extension": ".py",
   "mimetype": "text/x-python",
   "name": "python",
   "nbconvert_exporter": "python",
   "pygments_lexer": "ipython3",
   "version": "3.9.6"
  },
  "orig_nbformat": 4
 },
 "nbformat": 4,
 "nbformat_minor": 2
}
