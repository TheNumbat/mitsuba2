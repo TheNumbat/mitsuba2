{
 "cells": [
  {
   "cell_type": "code",
   "execution_count": 1,
   "source": [
    "import mitsuba\r\n",
    "mitsuba.set_variant('gpu_autodiff_rgb')\r\n",
    "\r\n",
    "# The C++ type associated with 'Float' is enoki::DiffArray<enoki::CUDAArray<float>>\r\n",
    "from mitsuba.core import Float\r\n",
    "import enoki as ek\r\n",
    "\r\n",
    "# Initialize a dynamic CUDA floating point array with some values\r\n",
    "x = Float([1, 2, 3])\r\n",
    "\r\n",
    "# Tell Enoki that we'll later be interested in gradients of\r\n",
    "# an as-of-yet unspecified objective function with respect to 'x'\r\n",
    "ek.set_requires_gradient(x)\r\n",
    "\r\n",
    "# Example objective function: sum of squares\r\n",
    "y = ek.hsum(x * x)\r\n",
    "\r\n",
    "# Now back-propagate gradient wrt. 'y' to input variables (i.e. 'x')\r\n",
    "ek.backward(y)\r\n",
    "\r\n",
    "# Prints: [2, 4, 6]\r\n",
    "print(ek.gradient(x))"
   ],
   "outputs": [
    {
     "output_type": "display_data",
     "data": {
      "text/html": [
       "<span style=\"font-family: monospace; color: #000\">2021-09-07 21:19:48 INFO  main  [optix_api.cpp:56] Dynamic loading of the Optix library ..</span>"
      ]
     },
     "metadata": {}
    },
    {
     "output_type": "stream",
     "name": "stdout",
     "text": [
      "[2, 4, 6]\n"
     ]
    }
   ],
   "metadata": {}
  },
  {
   "cell_type": "code",
   "execution_count": 2,
   "source": [
    "import enoki as ek\r\n",
    "import mitsuba\r\n",
    "mitsuba.set_variant('gpu_autodiff_rgb')\r\n",
    "\r\n",
    "from mitsuba.core import Thread\r\n",
    "from mitsuba.core.xml import load_file\r\n",
    "from mitsuba.python.util import traverse\r\n",
    "from mitsuba.python.autodiff import render, write_bitmap\r\n",
    "from mitsuba.core import Color3f\r\n",
    "\r\n",
    "# Load the Cornell Box\r\n",
    "Thread.thread().file_resolver().append('C:/Users/Max/Code/mitsuba2/resources/data/scenes/cbox/')\r\n",
    "scene = load_file('C:/Users/Max/Code/mitsuba2/resources/data/scenes/cbox/cbox.xml')\r\n",
    "\r\n",
    "# Find differentiable scene parameters\r\n",
    "params = traverse(scene)\r\n",
    "\r\n",
    "param_ref = Color3f(params['red.reflectance.value'])\r\n",
    "params.keep(['red.reflectance.value'])\r\n",
    "print(param_ref)\r\n",
    "print(params)"
   ],
   "outputs": [
    {
     "output_type": "display_data",
     "data": {
      "text/html": [
       "<span style=\"font-family: monospace; color: #000\">2021-09-07 21:19:48 INFO  main  [xml.cpp:1221] Loading XML file &quot;C:\\Users\\Max\\Code\\mitsuba2\\resources\\data\\scenes\\cbox\\cbox.xml&quot; ..</span>"
      ]
     },
     "metadata": {}
    },
    {
     "output_type": "display_data",
     "data": {
      "text/html": [
       "<span style=\"font-family: monospace; color: #000\">2021-09-07 21:19:48 INFO  main  [xml.cpp:1222] Using variant &quot;gpu_autodiff_rgb&quot;</span>"
      ]
     },
     "metadata": {}
    },
    {
     "output_type": "display_data",
     "data": {
      "text/html": [
       "<span style=\"font-family: monospace; color: #000\">2021-09-07 21:19:48 INFO  main  [xml.cpp:355] &quot;C:\\Users\\Max\\Code\\mitsuba2\\resources\\data\\scenes\\cbox\\cbox.xml&quot;: in-memory version upgrade (v2.0.0 -&gt; v2.2.1) ..</span>"
      ]
     },
     "metadata": {}
    },
    {
     "output_type": "display_data",
     "data": {
      "text/html": [
       "<span style=\"font-family: monospace; color: #000\">2021-09-07 21:19:48 INFO  main  [PluginManager] Loading plugin &quot;plugins\\srgb.dll&quot; ..</span>"
      ]
     },
     "metadata": {}
    },
    {
     "output_type": "display_data",
     "data": {
      "text/html": [
       "<span style=\"font-family: monospace; color: #000\">2021-09-07 21:19:48 INFO  main  [PluginManager] Loading plugin &quot;plugins\\srgb_d65.dll&quot; ..</span>"
      ]
     },
     "metadata": {}
    },
    {
     "output_type": "display_data",
     "data": {
      "text/html": [
       "<span style=\"font-family: monospace; color: #000\">2021-09-07 21:19:48 INFO  main  [PluginManager] Loading plugin &quot;plugins\\path.dll&quot; ..</span>"
      ]
     },
     "metadata": {}
    },
    {
     "output_type": "display_data",
     "data": {
      "text/html": [
       "<span style=\"font-family: monospace; color: #000\">2021-09-07 21:19:48 INFO  main  [PluginManager] Loading plugin &quot;plugins\\independent.dll&quot; ..</span>"
      ]
     },
     "metadata": {}
    },
    {
     "output_type": "display_data",
     "data": {
      "text/html": [
       "<span style=\"font-family: monospace; color: #000\">2021-09-07 21:19:48 INFO  main  [PluginManager] Loading plugin &quot;plugins\\gaussian.dll&quot; ..</span>"
      ]
     },
     "metadata": {}
    },
    {
     "output_type": "display_data",
     "data": {
      "text/html": [
       "<span style=\"font-family: monospace; color: #000\">2021-09-07 21:19:48 INFO  main  [PluginManager] Loading plugin &quot;plugins\\hdrfilm.dll&quot; ..</span>"
      ]
     },
     "metadata": {}
    },
    {
     "output_type": "display_data",
     "data": {
      "text/html": [
       "<span style=\"font-family: monospace; color: #000\">2021-09-07 21:19:48 INFO  main  [PluginManager] Loading plugin &quot;plugins\\perspective.dll&quot; ..</span>"
      ]
     },
     "metadata": {}
    },
    {
     "output_type": "display_data",
     "data": {
      "text/html": [
       "<span style=\"font-family: monospace; color: #000\">2021-09-07 21:19:48 INFO  main  [PluginManager] Loading plugin &quot;plugins\\diffuse.dll&quot; ..</span>"
      ]
     },
     "metadata": {}
    },
    {
     "output_type": "display_data",
     "data": {
      "text/html": [
       "<span style=\"font-family: monospace; color: #000\">2021-09-07 21:19:48 INFO  main  [PluginManager] Loading plugin &quot;plugins\\area.dll&quot; ..</span>"
      ]
     },
     "metadata": {}
    },
    {
     "output_type": "display_data",
     "data": {
      "text/html": [
       "<span style=\"font-family: monospace; color: #000\">2021-09-07 21:19:48 INFO  main  [PluginManager] Loading plugin &quot;plugins\\uniform.dll&quot; ..</span>"
      ]
     },
     "metadata": {}
    },
    {
     "output_type": "display_data",
     "data": {
      "text/html": [
       "<span style=\"font-family: monospace; color: #000\">2021-09-07 21:19:48 INFO  main  [PluginManager] Loading plugin &quot;plugins\\obj.dll&quot; ..</span>"
      ]
     },
     "metadata": {}
    },
    {
     "output_type": "display_data",
     "data": {
      "text/html": [
       "<span style=\"font-family: monospace; color: #000\">2021-09-07 21:19:48 INFO  main  [Scene] Building scene in OptiX ..</span>"
      ]
     },
     "metadata": {}
    },
    {
     "output_type": "stream",
     "name": "stdout",
     "text": [
      "[[0.569717, 0.0430139, 0.0443233]]\n",
      "ParameterMap[\n",
      "  * red.reflectance.value,\n",
      "]\n"
     ]
    }
   ],
   "metadata": {}
  },
  {
   "cell_type": "code",
   "execution_count": 3,
   "source": [
    "image_ref = render(scene, spp=8)\r\n",
    "crop_size = scene.sensors()[0].film().crop_size()\r\n",
    "write_bitmap('temp/out_ref.png', image_ref, crop_size)"
   ],
   "outputs": [],
   "metadata": {}
  },
  {
   "cell_type": "markdown",
   "source": [
    "![out_ref.png](out_ref.png)"
   ],
   "metadata": {}
  },
  {
   "cell_type": "code",
   "execution_count": 5,
   "source": [
    "params['red.reflectance.value'] = [.9, .9, .9]\r\n",
    "params.update()\r\n",
    "\r\n",
    "from mitsuba.python.autodiff import Adam\r\n",
    "opt = Adam(params, lr=.2)\r\n",
    "\r\n",
    "image = render(scene, spp=8)\r\n",
    "crop_size = scene.sensors()[0].film().crop_size()\r\n",
    "write_bitmap('temp/out_start.png', image, crop_size)\r\n",
    "\r\n",
    "for it in range(100):\r\n",
    "    # Perform a differentiable rendering of the scene\r\n",
    "    image = render(scene, optimizer=opt, unbiased=True, spp=1)\r\n",
    "\r\n",
    "    # Objective: MSE between 'image' and 'image_ref'\r\n",
    "    ob_val = ek.hsum(ek.sqr(image - image_ref)) / len(image)\r\n",
    "\r\n",
    "    # Back-propagate errors to input parameters\r\n",
    "    ek.backward(ob_val)\r\n",
    "\r\n",
    "    # Optimizer: take a gradient step\r\n",
    "    opt.step()\r\n",
    "\r\n",
    "    err_ref = ek.hsum(ek.sqr(param_ref - params['red.reflectance.value']))\r\n",
    "    print('Iteration %03i: error=%g' % (it, err_ref[0]))\r\n",
    "\r\n",
    "print(param_ref)\r\n",
    "print(params['red.reflectance.value'])\r\n",
    "\r\n",
    "image = render(scene, spp=8)\r\n",
    "crop_size = scene.sensors()[0].film().crop_size()\r\n",
    "write_bitmap('temp/out_end.png', image, crop_size)\r\n"
   ],
   "outputs": [
    {
     "output_type": "stream",
     "name": "stdout",
     "text": [
      "Iteration 000: error=0.879108\n",
      "Iteration 001: error=0.427435\n",
      "Iteration 002: error=0.17983\n",
      "Iteration 003: error=0.0704628\n",
      "Iteration 004: error=0.051545\n",
      "Iteration 005: error=0.0358767\n",
      "Iteration 006: error=0.0175408\n",
      "Iteration 007: error=0.00573612\n",
      "Iteration 008: error=0.00469874\n",
      "Iteration 009: error=0.0118884\n",
      "Iteration 010: error=0.0199318\n",
      "Iteration 011: error=0.0220037\n",
      "Iteration 012: error=0.0176046\n",
      "Iteration 013: error=0.0105169\n",
      "Iteration 014: error=0.00519656\n",
      "Iteration 015: error=0.00386257\n",
      "Iteration 016: error=0.00586938\n",
      "Iteration 017: error=0.00919437\n",
      "Iteration 018: error=0.0116088\n",
      "Iteration 019: error=0.0113934\n",
      "Iteration 020: error=0.00905004\n",
      "Iteration 021: error=0.00587572\n",
      "Iteration 022: error=0.00335412\n",
      "Iteration 023: error=0.00242183\n",
      "Iteration 024: error=0.00306424\n",
      "Iteration 025: error=0.00420559\n",
      "Iteration 026: error=0.00444144\n",
      "Iteration 027: error=0.00358264\n",
      "Iteration 028: error=0.00204941\n",
      "Iteration 029: error=0.00102251\n",
      "Iteration 030: error=0.00116259\n",
      "Iteration 031: error=0.00232429\n",
      "Iteration 032: error=0.00378185\n",
      "Iteration 033: error=0.00454804\n",
      "Iteration 034: error=0.00417536\n",
      "Iteration 035: error=0.00265822\n",
      "Iteration 036: error=0.00102389\n",
      "Iteration 037: error=7.95717e-05\n",
      "Iteration 038: error=0.000186387\n",
      "Iteration 039: error=0.000961655\n",
      "Iteration 040: error=0.00172181\n",
      "Iteration 041: error=0.00193962\n",
      "Iteration 042: error=0.00155587\n",
      "Iteration 043: error=0.000858395\n",
      "Iteration 044: error=0.000375897\n",
      "Iteration 045: error=0.000206504\n",
      "Iteration 046: error=0.000300456\n",
      "Iteration 047: error=0.000546294\n",
      "Iteration 048: error=0.000638323\n",
      "Iteration 049: error=0.0005235\n",
      "Iteration 050: error=0.000351983\n",
      "Iteration 051: error=0.000354346\n",
      "Iteration 052: error=0.000535121\n",
      "Iteration 053: error=0.00076117\n",
      "Iteration 054: error=0.000813194\n",
      "Iteration 055: error=0.000607499\n",
      "Iteration 056: error=0.000246367\n",
      "Iteration 057: error=6.05494e-05\n",
      "Iteration 058: error=4.86277e-05\n",
      "Iteration 059: error=0.000135646\n",
      "Iteration 060: error=0.000232078\n",
      "Iteration 061: error=0.000167223\n",
      "Iteration 062: error=8.47432e-05\n",
      "Iteration 063: error=4.45668e-05\n",
      "Iteration 064: error=4.82094e-05\n",
      "Iteration 065: error=9.50205e-05\n",
      "Iteration 066: error=0.000142954\n",
      "Iteration 067: error=5.69308e-05\n",
      "Iteration 068: error=1.59699e-06\n",
      "Iteration 069: error=3.57233e-05\n",
      "Iteration 070: error=0.00012826\n",
      "Iteration 071: error=0.00015699\n",
      "Iteration 072: error=0.000162574\n",
      "Iteration 073: error=7.34689e-05\n",
      "Iteration 074: error=7.05478e-06\n",
      "Iteration 075: error=3.62183e-07\n",
      "Iteration 076: error=1.00195e-05\n",
      "Iteration 077: error=5.75455e-05\n",
      "Iteration 078: error=0.000111825\n",
      "Iteration 079: error=0.000149285\n",
      "Iteration 080: error=0.000220242\n",
      "Iteration 081: error=0.000266889\n",
      "Iteration 082: error=0.000221863\n",
      "Iteration 083: error=0.000152767\n",
      "Iteration 084: error=0.000111958\n",
      "Iteration 085: error=9.03644e-05\n",
      "Iteration 086: error=7.72231e-05\n",
      "Iteration 087: error=4.60659e-05\n",
      "Iteration 088: error=3.63776e-05\n",
      "Iteration 089: error=5.06753e-05\n",
      "Iteration 090: error=0.000135536\n",
      "Iteration 091: error=0.000206194\n",
      "Iteration 092: error=0.000194029\n",
      "Iteration 093: error=0.000120396\n",
      "Iteration 094: error=7.57217e-05\n",
      "Iteration 095: error=2.44945e-05\n",
      "Iteration 096: error=3.83312e-05\n",
      "Iteration 097: error=7.79063e-05\n",
      "Iteration 098: error=0.000247204\n",
      "Iteration 099: error=0.000459777\n",
      "[[0.569717, 0.0430139, 0.0443233]]\n",
      "[[0.576629, 0.0571555, 0.0588841]]\n"
     ]
    }
   ],
   "metadata": {}
  },
  {
   "cell_type": "markdown",
   "source": [
    "![start](temp/out_start.png)\r\n",
    "![end](temp/out_end.png)"
   ],
   "metadata": {}
  }
 ],
 "metadata": {
  "orig_nbformat": 4,
  "language_info": {
   "name": "python",
   "version": "3.9.6",
   "mimetype": "text/x-python",
   "codemirror_mode": {
    "name": "ipython",
    "version": 3
   },
   "pygments_lexer": "ipython3",
   "nbconvert_exporter": "python",
   "file_extension": ".py"
  },
  "kernelspec": {
   "name": "python3",
   "display_name": "Python 3.9.6 64-bit"
  },
  "interpreter": {
   "hash": "4881f5eacd7088bcf5a836f9e344288743d588393de6dc96f82d4b26fa31d287"
  }
 },
 "nbformat": 4,
 "nbformat_minor": 2
}